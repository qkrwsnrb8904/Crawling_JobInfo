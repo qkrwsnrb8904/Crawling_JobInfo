{
 "cells": [
  {
   "cell_type": "code",
   "execution_count": 1,
   "metadata": {},
   "outputs": [
    {
     "data": {
      "text/html": [
       "<div>\n",
       "<style scoped>\n",
       "    .dataframe tbody tr th:only-of-type {\n",
       "        vertical-align: middle;\n",
       "    }\n",
       "\n",
       "    .dataframe tbody tr th {\n",
       "        vertical-align: top;\n",
       "    }\n",
       "\n",
       "    .dataframe thead th {\n",
       "        text-align: right;\n",
       "    }\n",
       "</style>\n",
       "<table border=\"1\" class=\"dataframe\">\n",
       "  <thead>\n",
       "    <tr style=\"text-align: right;\">\n",
       "      <th></th>\n",
       "      <th>회사</th>\n",
       "      <th>제목</th>\n",
       "      <th>링크</th>\n",
       "    </tr>\n",
       "  </thead>\n",
       "  <tbody>\n",
       "    <tr>\n",
       "      <th>0</th>\n",
       "      <td>㈜컴투스</td>\n",
       "      <td>[컴투스홀딩스] 데이터분석 담당자 (대리급)</td>\n",
       "      <td>https://www.jobkorea.co.kr/Recruit/GI_Read/464...</td>\n",
       "    </tr>\n",
       "    <tr>\n",
       "      <th>1</th>\n",
       "      <td>더치트주식회사</td>\n",
       "      <td>데이터 애널리스트 / 데이터분석 전문가 / 통계 전문가 / Data Analyst (통</td>\n",
       "      <td>https://www.jobkorea.co.kr/Recruit/GI_Read/464...</td>\n",
       "    </tr>\n",
       "    <tr>\n",
       "      <th>2</th>\n",
       "      <td>넛지헬스케어㈜</td>\n",
       "      <td>[캐시워크-병역특례] 데이터분석 담당 산업기능요원</td>\n",
       "      <td>https://www.jobkorea.co.kr/Recruit/GI_Read/465...</td>\n",
       "    </tr>\n",
       "    <tr>\n",
       "      <th>3</th>\n",
       "      <td>연이</td>\n",
       "      <td>데이터분석 준전문가 자격증 온라인 강의 교사 채용</td>\n",
       "      <td>https://www.jobkorea.co.kr/Recruit/GI_Read/465...</td>\n",
       "    </tr>\n",
       "    <tr>\n",
       "      <th>4</th>\n",
       "      <td>넛지헬스케어㈜</td>\n",
       "      <td>[캐시워크] 데이터분석 담당 채용전환형 인턴</td>\n",
       "      <td>https://www.jobkorea.co.kr/Recruit/GI_Read/462...</td>\n",
       "    </tr>\n",
       "  </tbody>\n",
       "</table>\n",
       "</div>"
      ],
      "text/plain": [
       "        회사                                                제목  \\\n",
       "0     ㈜컴투스                          [컴투스홀딩스] 데이터분석 담당자 (대리급)   \n",
       "1  더치트주식회사  데이터 애널리스트 / 데이터분석 전문가 / 통계 전문가 / Data Analyst (통   \n",
       "2  넛지헬스케어㈜                       [캐시워크-병역특례] 데이터분석 담당 산업기능요원   \n",
       "3       연이                       데이터분석 준전문가 자격증 온라인 강의 교사 채용   \n",
       "4  넛지헬스케어㈜                          [캐시워크] 데이터분석 담당 채용전환형 인턴   \n",
       "\n",
       "                                                  링크  \n",
       "0  https://www.jobkorea.co.kr/Recruit/GI_Read/464...  \n",
       "1  https://www.jobkorea.co.kr/Recruit/GI_Read/464...  \n",
       "2  https://www.jobkorea.co.kr/Recruit/GI_Read/465...  \n",
       "3  https://www.jobkorea.co.kr/Recruit/GI_Read/465...  \n",
       "4  https://www.jobkorea.co.kr/Recruit/GI_Read/462...  "
      ]
     },
     "execution_count": 1,
     "metadata": {},
     "output_type": "execute_result"
    }
   ],
   "source": [
    "import pandas as pd \n",
    "\n",
    "df = pd.read_csv('jobkorea_data_analyst_jobs.csv')\n",
    "df.head()"
   ]
  },
  {
   "cell_type": "code",
   "execution_count": null,
   "metadata": {},
   "outputs": [],
   "source": []
  }
 ],
 "metadata": {
  "kernelspec": {
   "display_name": "Python 3",
   "language": "python",
   "name": "python3"
  },
  "language_info": {
   "codemirror_mode": {
    "name": "ipython",
    "version": 3
   },
   "file_extension": ".py",
   "mimetype": "text/x-python",
   "name": "python",
   "nbconvert_exporter": "python",
   "pygments_lexer": "ipython3",
   "version": "3.13.2"
  }
 },
 "nbformat": 4,
 "nbformat_minor": 2
}
